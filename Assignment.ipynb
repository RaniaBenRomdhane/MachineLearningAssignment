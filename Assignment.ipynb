{
    "cells": [
        {
            "cell_type": "code",
            "execution_count": 4,
            "metadata": {},
            "outputs": [
                {
                    "name": "stdout",
                    "output_type": "stream",
                    "text": "--2020-01-27 11:39:22--  https://s3-api.us-geo.objectstorage.softlayer.net/cf-courses-data/CognitiveClass/ML0101ENv3/labs/cell_samples.csv\nResolving s3-api.us-geo.objectstorage.softlayer.net (s3-api.us-geo.objectstorage.softlayer.net)... 67.228.254.196\nConnecting to s3-api.us-geo.objectstorage.softlayer.net (s3-api.us-geo.objectstorage.softlayer.net)|67.228.254.196|:443... connected.\nHTTP request sent, awaiting response... 200 OK\nLength: 20675 (20K) [text/csv]\nSaving to: \u2018cell_samples.csv\u2019\n\n100%[======================================>] 20,675      --.-K/s   in 0.001s  \n\n2020-01-27 11:39:22 (15.7 MB/s) - \u2018cell_samples.csv\u2019 saved [20675/20675]\n\n2    458\n4    241\nName: Class, dtype: int64\nTrain set: (546, 9) (546,)\nTest set: (137, 9) (137,)\nAccuracy evaluation of the different classifiers with different metrics\n______ KNN ________\nLOG LOSS KNN:  0.2924794439389261\nF1 SCORE KNN:  0.985471513710052\nJaccard KNN:  0.9854014598540146\n______ LOGISTIC REG ________\nLOG LOSS LOGISTIC REG:  0.354396623753446\nF1 SCORE LOGISTIC REG:  0.9205885760630287\nJaccard LOGISTIC REG:  0.9197080291970803\n______ DECISION TREE ________\nLOG LOSS TREE:  0.31113295070754715\nF1 SCORE TREE:  0.9781562743461025\nJaccard TREE:  0.9781021897810219\n______ SVM _____________\nLOG LOSS SVM:  0.11876032020653321\nF1 SCORE SVM:  0.9639038982104676\nJaccard SVM:  0.9635036496350365\n"
                },
                {
                    "name": "stderr",
                    "output_type": "stream",
                    "text": "/opt/conda/envs/Python36/lib/python3.6/site-packages/sklearn/svm/base.py:196: FutureWarning: The default value of gamma will change from 'auto' to 'scale' in version 0.22 to account better for unscaled features. Set gamma explicitly to 'auto' or 'scale' to avoid this warning.\n  \"avoid this warning.\", FutureWarning)\n"
                }
            ],
            "source": "import pandas as pd\nimport pylab as pl\nimport numpy as np\n%matplotlib inline \nimport matplotlib.pyplot as plt\n\n! wget -O cell_samples.csv https://s3-api.us-geo.objectstorage.softlayer.net/cf-courses-data/CognitiveClass/ML0101ENv3/labs/cell_samples.csv\n    \nmy_data = pd.read_csv(\"cell_samples.csv\")\nmy_data.head()\n\nprint(my_data[\"Class\"].value_counts())\n\nmy_data = my_data[pd.to_numeric(my_data['BareNuc'], errors='coerce').notnull()]\nmy_data['BareNuc'] = my_data['BareNuc'].astype('int')\n\n\nfeature_df = my_data[['Clump', 'UnifSize', 'UnifShape', 'MargAdh', 'SingEpiSize', 'BareNuc', 'BlandChrom', 'NormNucl', 'Mit']]\nX = np.asarray(feature_df)\n#X=my_data[['Clump', 'UnifSize', 'UnifShape', 'MargAdh', 'SingEpiSize', 'BareNuc', 'BlandChrom', 'NormNucl', 'Mit']].values\nmy_data['Class'] = my_data['Class'].astype('int')\ny = np.asarray(my_data['Class'])\n\n\n\nfrom sklearn.model_selection import train_test_split\nX_train, X_test, y_train, y_test = train_test_split( X, y, test_size=0.2, random_state=4)\nprint ('Train set:', X_train.shape,  y_train.shape)\nprint ('Test set:', X_test.shape,  y_test.shape)\n\n\n#_____________________________ LogisticRegression _______________________\nfrom sklearn.linear_model import LogisticRegression\nLR = LogisticRegression(C=0.01, solver='liblinear').fit(X_train,y_train)\n#LR\npredLR = LR.predict(X_test)\npredLR_prob = LR.predict_proba(X_test)\n\n#___________________________ Decision Tree _________________\nfrom sklearn.tree import DecisionTreeClassifier\nTree = DecisionTreeClassifier(criterion=\"entropy\", max_depth = 3)\nTree.fit(X_train,y_train)\npredTree = Tree.predict(X_test)\npredTree_prob=Tree.predict_proba(X_test)\n\n#_____________________________ SVM _______________________\nfrom sklearn import svm\nSpVect = svm.SVC(kernel='rbf',probability=1)\nSpVect.fit(X_train, y_train) \npredSVM = SpVect.predict(X_test)\npredSVM_prob=SpVect.predict_proba(X_test)\n\n#_____________________________ KNN _______________________\nfrom sklearn.neighbors import KNeighborsClassifier\nk = 7\nneigh = KNeighborsClassifier(n_neighbors = k).fit(X_train,y_train)\npredKNN = neigh.predict(X_test)\npredKNN_prob=neigh.predict_proba(X_test)\n\n#_________________EVALUATION_________________________________\nfrom sklearn.metrics import confusion_matrix\nfrom sklearn import metrics\nfrom sklearn.metrics import log_loss\nfrom sklearn.metrics import f1_score\nfrom sklearn.metrics import jaccard_similarity_score\nprint(\"Accuracy evaluation of the different classifiers with different metrics\")\nprint(\"______ KNN ________\")\nprint(\"LOG LOSS KNN: \",log_loss(y_test, predKNN_prob))\nprint(\"F1 SCORE KNN: \",f1_score(y_test, predKNN, average='weighted') )\nprint (\"Jaccard KNN: \",jaccard_similarity_score(y_test, predKNN))\n\nprint(\"______ LOGISTIC REG ________\")\nprint(\"LOG LOSS LOGISTIC REG: \",log_loss(y_test, predLR_prob))\nprint(\"F1 SCORE LOGISTIC REG: \",f1_score(y_test, predLR, average='weighted') )\nprint (\"Jaccard LOGISTIC REG: \",jaccard_similarity_score(y_test, predLR))\n\nprint(\"______ DECISION TREE ________\")\nprint(\"LOG LOSS TREE: \",log_loss(y_test, predTree_prob))\nprint(\"F1 SCORE TREE: \",f1_score(y_test, predTree, average='weighted') )\nprint (\"Jaccard TREE: \",jaccard_similarity_score(y_test, predTree))\n\nprint(\"______ SVM _____________\")\nprint(\"LOG LOSS SVM: \",log_loss(y_test, predSVM_prob))\nprint(\"F1 SCORE SVM: \",f1_score(y_test, predSVM, average='weighted') )\nprint (\"Jaccard SVM: \",jaccard_similarity_score(y_test, predSVM))"
        },
        {
            "cell_type": "code",
            "execution_count": null,
            "metadata": {},
            "outputs": [],
            "source": ""
        }
    ],
    "metadata": {
        "kernelspec": {
            "display_name": "Python 3.6",
            "language": "python",
            "name": "python3"
        },
        "language_info": {
            "codemirror_mode": {
                "name": "ipython",
                "version": 3
            },
            "file_extension": ".py",
            "mimetype": "text/x-python",
            "name": "python",
            "nbconvert_exporter": "python",
            "pygments_lexer": "ipython3",
            "version": "3.6.9"
        }
    },
    "nbformat": 4,
    "nbformat_minor": 1
}